{
 "cells": [
  {
   "cell_type": "markdown",
   "id": "823f7177-20f4-4bbd-986b-a5ab092e69d8",
   "metadata": {},
   "source": [
    "Q1. Explain with an example each when to use a for loop and a while loop.\n",
    "Ans."
   ]
  },
  {
   "cell_type": "markdown",
   "id": "deadb52d-9286-4d0a-a3ef-7e2ccc835d62",
   "metadata": {},
   "source": [
    "For loop: Use it when you know the number of iterations or are iterating over a sequence.\n",
    "While loop: Use it when the number of iterations is not known and you need to continue looping based on a condition."
   ]
  },
  {
   "cell_type": "code",
   "execution_count": 16,
   "id": "3c751ec3-b3d7-41e9-9234-7e40d09ed947",
   "metadata": {},
   "outputs": [
    {
     "name": "stdout",
     "output_type": "stream",
     "text": [
      "1\n",
      "2\n",
      "3\n",
      "4\n",
      "5\n"
     ]
    }
   ],
   "source": [
    "for i in range(1, 6):\n",
    "    print(i)\n"
   ]
  },
  {
   "cell_type": "code",
   "execution_count": 17,
   "id": "97531445-c37f-48f0-9a7d-4388e681d64e",
   "metadata": {},
   "outputs": [
    {
     "name": "stdout",
     "output_type": "stream",
     "text": [
      "1\n",
      "2\n",
      "3\n",
      "4\n",
      "5\n"
     ]
    }
   ],
   "source": [
    "i = 1\n",
    "while i <= 5:\n",
    "    print(i)\n",
    "    i += 1\n"
   ]
  },
  {
   "cell_type": "markdown",
   "id": "4e68799f-acb5-4739-b6b0-f72650d0e2b3",
   "metadata": {},
   "source": [
    "Q2. Write a python program to print the sum and product of the first 10 natural numbers using for\n",
    "and while loop."
   ]
  },
  {
   "cell_type": "code",
   "execution_count": 6,
   "id": "40d8830d-aaab-4341-bb01-798ac274a892",
   "metadata": {},
   "outputs": [
    {
     "name": "stdout",
     "output_type": "stream",
     "text": [
      "Sum of first 10 natural number is 55\n",
      "Product of first 10 natural number is 3628800\n"
     ]
    }
   ],
   "source": [
    "#with using for loop\n",
    "l=range(1,11)\n",
    "sum=0\n",
    "product=1\n",
    "for i in l:\n",
    "    sum=sum+i\n",
    "    product=product*i\n",
    "if i==10:\n",
    "    print(\"Sum of first 10 natural number is\",sum)\n",
    "else:\n",
    "    print(\"Error 1\")\n",
    "if i==10:\n",
    "    print(\"Product of first 10 natural number is\",product)    \n",
    "else:\n",
    "    print(\"Error 2\")"
   ]
  },
  {
   "cell_type": "code",
   "execution_count": 14,
   "id": "f9a6511c-6e05-4a27-816f-ad276a88c4fa",
   "metadata": {},
   "outputs": [
    {
     "name": "stdin",
     "output_type": "stream",
     "text": [
      "Enter your limit 10\n"
     ]
    },
    {
     "name": "stdout",
     "output_type": "stream",
     "text": [
      "Sum of the natural number is the: 55\n"
     ]
    }
   ],
   "source": [
    "#with using while loop\n",
    "n=int(input(\"Enter your limit\"))\n",
    "starting_point=0\n",
    "counter=1\n",
    "\n",
    "\n",
    "while counter <=n:\n",
    "    starting_point=starting_point+counter\n",
    "    counter=counter+1\n",
    "print(\"Sum of the natural number is the:\",starting_point)    "
   ]
  },
  {
   "cell_type": "code",
   "execution_count": 15,
   "id": "e359add9-4268-4c06-98f9-640172b44f28",
   "metadata": {},
   "outputs": [
    {
     "name": "stdin",
     "output_type": "stream",
     "text": [
      "Enter your limit 10\n"
     ]
    },
    {
     "name": "stdout",
     "output_type": "stream",
     "text": [
      "Product of the natural number is the: 3628800\n"
     ]
    }
   ],
   "source": [
    "n=int(input(\"Enter your limit\"))\n",
    "starting_point=1\n",
    "counter=1\n",
    "\n",
    "\n",
    "while counter <=n:\n",
    "    starting_point=starting_point*counter\n",
    "    counter=counter+1\n",
    "print(\"Product of the natural number is the:\",starting_point)    "
   ]
  },
  {
   "cell_type": "markdown",
   "id": "0cf684f8-2ee8-4365-9f47-915017431749",
   "metadata": {},
   "source": [
    "Q3. Create a python program to compute the electricity bill for a household.\n",
    "\n",
    "The per-unit charges in rupees are as follows: For the first 100 units, the user will be charged Rs. 4.5 per\n",
    "unit, for the next 100 units, the user will be charged Rs. 6 per unit, and for the next 100 units, the user will\n",
    "be charged Rs. 10 per unit, After 300 units and above the user will be charged Rs. 20 per unit.\n",
    "\n",
    " <= 100 units => 4.5 Rs. \n",
    " >100  to <=200 => 6 Rs.\n",
    " >200  to <=300 =>10 Rs.\n",
    " >300           =>20 Rs.\n",
    "\n",
    "You are required to take the units of electricity consumed in a month from the user as input.\n",
    "\n",
    "Your program must pass this test case: when the unit of electricity consumed by the user in a month is\n",
    "310, the total electricity bill should be 2250."
   ]
  },
  {
   "cell_type": "code",
   "execution_count": null,
   "id": "67d17f65-18b5-4023-9696-c08605c7c020",
   "metadata": {},
   "outputs": [],
   "source": [
    "units = int(input(\"Enter consumed units for this month :\"))\n",
    "if 0< units <=100:\n",
    "    print(\"Your Electricity bill is Rs.\", units*4.5, \"for this month.\")\n",
    "elif 100< units <=200:\n",
    "    print(\"Your Electricity bill is Rs.\", 450+(units-100)*6, \"for this month.\")\n",
    "elif 200< units <=300:\n",
    "    print(\"Your Electricity bill is Rs.\", 1050+(units-200)*10, \"for this month.\")\n",
    "elif 300< units :\n",
    "    print(\"Your Electricity bill is Rs.\", 2050+(units-300)*20, \"for this month.\")"
   ]
  },
  {
   "cell_type": "markdown",
   "id": "f899218e-42cf-457f-890c-83cf5007d90a",
   "metadata": {},
   "source": [
    "Q4. Create a list of numbers from 1 to 100. Use for loop and while loop to calculate the cube of each\n",
    "number and if the cube of that number is divisible by 4 or 5 then append that number in a list and print\n",
    "that list."
   ]
  },
  {
   "cell_type": "code",
   "execution_count": 38,
   "id": "19db3c05-120f-4687-b751-40955733e607",
   "metadata": {},
   "outputs": [
    {
     "name": "stdout",
     "output_type": "stream",
     "text": [
      "Using for loop: [2, 4, 5, 6, 8, 10, 12, 14, 15, 16, 18, 20, 22, 24, 25, 26, 28, 30, 32, 34, 35, 36, 38, 40, 42, 44, 45, 46, 48, 50, 52, 54, 55, 56, 58, 60, 62, 64, 65, 66, 68, 70, 72, 74, 75, 76, 78, 80, 82, 84, 85, 86, 88, 90, 92, 94, 95, 96, 98, 100]\n"
     ]
    }
   ],
   "source": [
    "#for\n",
    "numbers = list(range(1, 101))\n",
    "divisible_by_4_or_5 = []\n",
    "\n",
    "for number in numbers:\n",
    "    cube = number ** 3\n",
    "    if cube % 4 == 0 or cube % 5 == 0:\n",
    "        divisible_by_4_or_5.append(number)\n",
    "\n",
    "print(\"Using for loop:\", divisible_by_4_or_5)"
   ]
  },
  {
   "cell_type": "code",
   "execution_count": 39,
   "id": "9b57dd48-a024-4913-8279-083bceef48d8",
   "metadata": {},
   "outputs": [
    {
     "name": "stdout",
     "output_type": "stream",
     "text": [
      "Using while loop: [2, 4, 5, 6, 8, 10, 12, 14, 15, 16, 18, 20, 22, 24, 25, 26, 28, 30, 32, 34, 35, 36, 38, 40, 42, 44, 45, 46, 48, 50, 52, 54, 55, 56, 58, 60, 62, 64, 65, 66, 68, 70, 72, 74, 75, 76, 78, 80, 82, 84, 85, 86, 88, 90, 92, 94, 95, 96, 98, 100]\n"
     ]
    }
   ],
   "source": [
    "#while\n",
    "numbers = list(range(1, 101))\n",
    "divisible_by_4_or_5_while = []\n",
    "i = 0\n",
    "\n",
    "while i < len(numbers):\n",
    "    number = numbers[i]\n",
    "    cube = number ** 3\n",
    "    if cube % 4 == 0 or cube % 5 == 0:\n",
    "        divisible_by_4_or_5_while.append(number)\n",
    "    i += 1\n",
    "\n",
    "print(\"Using while loop:\", divisible_by_4_or_5_while)\n"
   ]
  },
  {
   "cell_type": "markdown",
   "id": "00ff4e58-765e-4345-a451-e10e64467599",
   "metadata": {},
   "source": [
    "Q5. Write a program to filter count vowels in the below-given string.\n",
    "string = \"I want to become a data scientist\""
   ]
  },
  {
   "cell_type": "code",
   "execution_count": 29,
   "id": "ab023dbf-6c8b-488c-a785-47593175c12f",
   "metadata": {},
   "outputs": [],
   "source": [
    "string = \"I want to become a data scientist\""
   ]
  },
  {
   "cell_type": "code",
   "execution_count": 37,
   "id": "72b274d9-f81c-48de-8a61-eda415bd6766",
   "metadata": {},
   "outputs": [
    {
     "name": "stdout",
     "output_type": "stream",
     "text": [
      "Vowels in the string: ['I', 'a', 'o', 'e', 'o', 'e', 'a', 'a', 'a', 'i', 'e', 'i']\n",
      "Number of vowels: 12\n"
     ]
    }
   ],
   "source": [
    "vowels = ['A', 'a', 'E', 'e', 'I', 'i', 'O', 'o', 'U', 'u']\n",
    "vowels_counting = []\n",
    "\n",
    "for char in string:\n",
    "    if char in vowels:\n",
    "        vowels_counting.append(char)\n",
    "\n",
    "print(f\"Vowels in the string: {vowels_counting}\")\n",
    "print(f\"Number of vowels: {len(vowels_counting)}\")"
   ]
  }
 ],
 "metadata": {
  "kernelspec": {
   "display_name": "Python 3 (ipykernel)",
   "language": "python",
   "name": "python3"
  },
  "language_info": {
   "codemirror_mode": {
    "name": "ipython",
    "version": 3
   },
   "file_extension": ".py",
   "mimetype": "text/x-python",
   "name": "python",
   "nbconvert_exporter": "python",
   "pygments_lexer": "ipython3",
   "version": "3.10.8"
  }
 },
 "nbformat": 4,
 "nbformat_minor": 5
}
